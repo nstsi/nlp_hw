{
  "nbformat": 4,
  "nbformat_minor": 0,
  "metadata": {
    "colab": {
      "name": "2.ipynb",
      "provenance": [],
      "collapsed_sections": []
    },
    "kernelspec": {
      "name": "python3",
      "display_name": "Python 3"
    }
  },
  "cells": [
    {
      "cell_type": "code",
      "metadata": {
        "id": "gpRJsyYb7PPt",
        "outputId": "92c6673d-bd98-4ce0-86dd-67822ca7a655",
        "colab": {
          "base_uri": "https://localhost:8080/",
          "height": 228
        }
      },
      "source": [
        "pip install pymorphy2"
      ],
      "execution_count": 4,
      "outputs": [
        {
          "output_type": "stream",
          "text": [
            "Collecting pymorphy2\n",
            "\u001b[?25l  Downloading https://files.pythonhosted.org/packages/07/57/b2ff2fae3376d4f3c697b9886b64a54b476e1a332c67eee9f88e7f1ae8c9/pymorphy2-0.9.1-py3-none-any.whl (55kB)\n",
            "\r\u001b[K     |██████                          | 10kB 13.3MB/s eta 0:00:01\r\u001b[K     |███████████▉                    | 20kB 2.2MB/s eta 0:00:01\r\u001b[K     |█████████████████▊              | 30kB 2.8MB/s eta 0:00:01\r\u001b[K     |███████████████████████▋        | 40kB 3.1MB/s eta 0:00:01\r\u001b[K     |█████████████████████████████▌  | 51kB 2.4MB/s eta 0:00:01\r\u001b[K     |████████████████████████████████| 61kB 2.1MB/s \n",
            "\u001b[?25hCollecting dawg-python>=0.7.1\n",
            "  Downloading https://files.pythonhosted.org/packages/6a/84/ff1ce2071d4c650ec85745766c0047ccc3b5036f1d03559fd46bb38b5eeb/DAWG_Python-0.7.2-py2.py3-none-any.whl\n",
            "Collecting pymorphy2-dicts-ru<3.0,>=2.4\n",
            "\u001b[?25l  Downloading https://files.pythonhosted.org/packages/3a/79/bea0021eeb7eeefde22ef9e96badf174068a2dd20264b9a378f2be1cdd9e/pymorphy2_dicts_ru-2.4.417127.4579844-py2.py3-none-any.whl (8.2MB)\n",
            "\u001b[K     |████████████████████████████████| 8.2MB 5.4MB/s \n",
            "\u001b[?25hRequirement already satisfied: docopt>=0.6 in /usr/local/lib/python3.6/dist-packages (from pymorphy2) (0.6.2)\n",
            "Installing collected packages: dawg-python, pymorphy2-dicts-ru, pymorphy2\n",
            "Successfully installed dawg-python-0.7.2 pymorphy2-0.9.1 pymorphy2-dicts-ru-2.4.417127.4579844\n"
          ],
          "name": "stdout"
        }
      ]
    },
    {
      "cell_type": "code",
      "metadata": {
        "id": "hkvvLaIs7TLd",
        "outputId": "ab5f8cd2-fe02-4ef6-c6ff-aa27a97377d2",
        "colab": {
          "base_uri": "https://localhost:8080/",
          "height": 609
        }
      },
      "source": [
        "pip install natasha"
      ],
      "execution_count": 5,
      "outputs": [
        {
          "output_type": "stream",
          "text": [
            "Collecting natasha\n",
            "\u001b[?25l  Downloading https://files.pythonhosted.org/packages/83/34/9abb6b5c95993001518e517f21157e2c955749ac4f3c79dc3c2cf25e72fe/natasha-1.3.0-py3-none-any.whl (34.4MB)\n",
            "\u001b[K     |████████████████████████████████| 34.4MB 113kB/s \n",
            "\u001b[?25hCollecting yargy>=0.14.0\n",
            "\u001b[?25l  Downloading https://files.pythonhosted.org/packages/8e/07/94306844e3a5cb520660612ad98bce56c168edb596679bd541e68dfde089/yargy-0.14.0-py3-none-any.whl (41kB)\n",
            "\u001b[K     |████████████████████████████████| 51kB 5.4MB/s \n",
            "\u001b[?25hRequirement already satisfied: pymorphy2 in /usr/local/lib/python3.6/dist-packages (from natasha) (0.9.1)\n",
            "Collecting ipymarkup>=0.8.0\n",
            "  Downloading https://files.pythonhosted.org/packages/bf/9b/bf54c98d50735a4a7c84c71e92c5361730c878ebfe903d2c2d196ef66055/ipymarkup-0.9.0-py3-none-any.whl\n",
            "Collecting razdel>=0.5.0\n",
            "  Downloading https://files.pythonhosted.org/packages/15/2c/664223a3924aa6e70479f7d37220b3a658765b9cfe760b4af7ffdc50d38f/razdel-0.5.0-py3-none-any.whl\n",
            "Collecting slovnet>=0.3.0\n",
            "\u001b[?25l  Downloading https://files.pythonhosted.org/packages/c2/6f/1c989335c9969421f771e4f0410ba70d82fe992ec9f3cbac9f432d8f5733/slovnet-0.4.0-py3-none-any.whl (49kB)\n",
            "\u001b[K     |████████████████████████████████| 51kB 5.1MB/s \n",
            "\u001b[?25hCollecting navec>=0.9.0\n",
            "  Downloading https://files.pythonhosted.org/packages/83/ad/554945ebee66fe83fefd61e043938981dd9e6136882025c506ac6faa6a4c/navec-0.9.0-py3-none-any.whl\n",
            "Requirement already satisfied: dawg-python>=0.7.1 in /usr/local/lib/python3.6/dist-packages (from pymorphy2->natasha) (0.7.2)\n",
            "Requirement already satisfied: docopt>=0.6 in /usr/local/lib/python3.6/dist-packages (from pymorphy2->natasha) (0.6.2)\n",
            "Requirement already satisfied: pymorphy2-dicts-ru<3.0,>=2.4 in /usr/local/lib/python3.6/dist-packages (from pymorphy2->natasha) (2.4.417127.4579844)\n",
            "Collecting intervaltree>=3\n",
            "  Downloading https://files.pythonhosted.org/packages/50/fb/396d568039d21344639db96d940d40eb62befe704ef849b27949ded5c3bb/intervaltree-3.1.0.tar.gz\n",
            "Requirement already satisfied: numpy in /usr/local/lib/python3.6/dist-packages (from slovnet>=0.3.0->natasha) (1.18.5)\n",
            "Requirement already satisfied: sortedcontainers<3.0,>=2.0 in /usr/local/lib/python3.6/dist-packages (from intervaltree>=3->ipymarkup>=0.8.0->natasha) (2.2.2)\n",
            "Building wheels for collected packages: intervaltree\n",
            "  Building wheel for intervaltree (setup.py) ... \u001b[?25l\u001b[?25hdone\n",
            "  Created wheel for intervaltree: filename=intervaltree-3.1.0-py2.py3-none-any.whl size=26100 sha256=edc1606c1751f767c2bb135132e48c4656a386d8bf8a6009173103d19d615311\n",
            "  Stored in directory: /root/.cache/pip/wheels/f3/f2/66/e9c30d3e9499e65ea2fa0d07c002e64de63bd0adaa49c445bf\n",
            "Successfully built intervaltree\n",
            "Installing collected packages: yargy, intervaltree, ipymarkup, razdel, navec, slovnet, natasha\n",
            "  Found existing installation: intervaltree 2.1.0\n",
            "    Uninstalling intervaltree-2.1.0:\n",
            "      Successfully uninstalled intervaltree-2.1.0\n",
            "Successfully installed intervaltree-3.1.0 ipymarkup-0.9.0 natasha-1.3.0 navec-0.9.0 razdel-0.5.0 slovnet-0.4.0 yargy-0.14.0\n"
          ],
          "name": "stdout"
        }
      ]
    },
    {
      "cell_type": "code",
      "metadata": {
        "id": "drFpXPVA7Uw0",
        "outputId": "5ac66c79-4620-4116-b963-ead5bf92981b",
        "colab": {
          "base_uri": "https://localhost:8080/",
          "height": 384
        }
      },
      "source": [
        "pip install spacy"
      ],
      "execution_count": 6,
      "outputs": [
        {
          "output_type": "stream",
          "text": [
            "Requirement already satisfied: spacy in /usr/local/lib/python3.6/dist-packages (2.2.4)\n",
            "Requirement already satisfied: setuptools in /usr/local/lib/python3.6/dist-packages (from spacy) (50.3.0)\n",
            "Requirement already satisfied: srsly<1.1.0,>=1.0.2 in /usr/local/lib/python3.6/dist-packages (from spacy) (1.0.2)\n",
            "Requirement already satisfied: murmurhash<1.1.0,>=0.28.0 in /usr/local/lib/python3.6/dist-packages (from spacy) (1.0.2)\n",
            "Requirement already satisfied: tqdm<5.0.0,>=4.38.0 in /usr/local/lib/python3.6/dist-packages (from spacy) (4.41.1)\n",
            "Requirement already satisfied: thinc==7.4.0 in /usr/local/lib/python3.6/dist-packages (from spacy) (7.4.0)\n",
            "Requirement already satisfied: wasabi<1.1.0,>=0.4.0 in /usr/local/lib/python3.6/dist-packages (from spacy) (0.8.0)\n",
            "Requirement already satisfied: plac<1.2.0,>=0.9.6 in /usr/local/lib/python3.6/dist-packages (from spacy) (1.1.3)\n",
            "Requirement already satisfied: numpy>=1.15.0 in /usr/local/lib/python3.6/dist-packages (from spacy) (1.18.5)\n",
            "Requirement already satisfied: catalogue<1.1.0,>=0.0.7 in /usr/local/lib/python3.6/dist-packages (from spacy) (1.0.0)\n",
            "Requirement already satisfied: preshed<3.1.0,>=3.0.2 in /usr/local/lib/python3.6/dist-packages (from spacy) (3.0.2)\n",
            "Requirement already satisfied: blis<0.5.0,>=0.4.0 in /usr/local/lib/python3.6/dist-packages (from spacy) (0.4.1)\n",
            "Requirement already satisfied: requests<3.0.0,>=2.13.0 in /usr/local/lib/python3.6/dist-packages (from spacy) (2.23.0)\n",
            "Requirement already satisfied: cymem<2.1.0,>=2.0.2 in /usr/local/lib/python3.6/dist-packages (from spacy) (2.0.3)\n",
            "Requirement already satisfied: importlib-metadata>=0.20; python_version < \"3.8\" in /usr/local/lib/python3.6/dist-packages (from catalogue<1.1.0,>=0.0.7->spacy) (2.0.0)\n",
            "Requirement already satisfied: certifi>=2017.4.17 in /usr/local/lib/python3.6/dist-packages (from requests<3.0.0,>=2.13.0->spacy) (2020.6.20)\n",
            "Requirement already satisfied: urllib3!=1.25.0,!=1.25.1,<1.26,>=1.21.1 in /usr/local/lib/python3.6/dist-packages (from requests<3.0.0,>=2.13.0->spacy) (1.24.3)\n",
            "Requirement already satisfied: idna<3,>=2.5 in /usr/local/lib/python3.6/dist-packages (from requests<3.0.0,>=2.13.0->spacy) (2.10)\n",
            "Requirement already satisfied: chardet<4,>=3.0.2 in /usr/local/lib/python3.6/dist-packages (from requests<3.0.0,>=2.13.0->spacy) (3.0.4)\n",
            "Requirement already satisfied: zipp>=0.5 in /usr/local/lib/python3.6/dist-packages (from importlib-metadata>=0.20; python_version < \"3.8\"->catalogue<1.1.0,>=0.0.7->spacy) (3.2.0)\n"
          ],
          "name": "stdout"
        }
      ]
    },
    {
      "cell_type": "code",
      "metadata": {
        "id": "baGXIsRD7WwE",
        "outputId": "66f576a5-008d-4373-a6d3-4e509f5b5739",
        "colab": {
          "base_uri": "https://localhost:8080/",
          "height": 69
        }
      },
      "source": [
        "pip install torch"
      ],
      "execution_count": 7,
      "outputs": [
        {
          "output_type": "stream",
          "text": [
            "Requirement already satisfied: torch in /usr/local/lib/python3.6/dist-packages (1.6.0+cu101)\n",
            "Requirement already satisfied: future in /usr/local/lib/python3.6/dist-packages (from torch) (0.16.0)\n",
            "Requirement already satisfied: numpy in /usr/local/lib/python3.6/dist-packages (from torch) (1.18.5)\n"
          ],
          "name": "stdout"
        }
      ]
    },
    {
      "cell_type": "code",
      "metadata": {
        "id": "nGxVJY00wcqZ",
        "outputId": "ad8764fa-cac3-4e94-efc1-14f6bb1b418e",
        "colab": {
          "base_uri": "https://localhost:8080/",
          "height": 1000
        }
      },
      "source": [
        "import pymorphy2\n",
        "from natasha import (\n",
        "    Segmenter,\n",
        "    MorphVocab,\n",
        "    NewsEmbedding,\n",
        "    NewsMorphTagger,\n",
        "    Doc\n",
        ")\n",
        "import spacy\n",
        "import torch  # использую flair\n",
        "!pip install flair\n",
        "import flair\n",
        "import nltk; nltk.download('stopwords')\n",
        "!python3 -m spacy download en\n",
        "import re\n"
      ],
      "execution_count": 8,
      "outputs": [
        {
          "output_type": "stream",
          "text": [
            "Collecting flair\n",
            "\u001b[?25l  Downloading https://files.pythonhosted.org/packages/cd/19/902d1691c1963ab8c9a9578abc2d65c63aa1ecf4f8200143b5ef91ace6f5/flair-0.6.1-py3-none-any.whl (331kB)\n",
            "\u001b[K     |████████████████████████████████| 337kB 3.2MB/s \n",
            "\u001b[?25hRequirement already satisfied: tqdm>=4.26.0 in /usr/local/lib/python3.6/dist-packages (from flair) (4.41.1)\n",
            "Collecting bpemb>=0.3.2\n",
            "  Downloading https://files.pythonhosted.org/packages/91/77/3f0f53856e86af32b1d3c86652815277f7b5f880002584eb30db115b6df5/bpemb-0.3.2-py3-none-any.whl\n",
            "Collecting sqlitedict>=1.6.0\n",
            "  Downloading https://files.pythonhosted.org/packages/5c/2d/b1d99e9ad157dd7de9cd0d36a8a5876b13b55e4b75f7498bc96035fb4e96/sqlitedict-1.7.0.tar.gz\n",
            "Collecting konoha<5.0.0,>=4.0.0\n",
            "  Downloading https://files.pythonhosted.org/packages/ea/01/47358efec5396fc80f98273c42cbdfe7aab056252b07884ffcc0f118978f/konoha-4.6.2-py3-none-any.whl\n",
            "Requirement already satisfied: hyperopt>=0.1.1 in /usr/local/lib/python3.6/dist-packages (from flair) (0.1.2)\n",
            "Requirement already satisfied: gensim>=3.4.0 in /usr/local/lib/python3.6/dist-packages (from flair) (3.6.0)\n",
            "Collecting ftfy\n",
            "\u001b[?25l  Downloading https://files.pythonhosted.org/packages/ff/e2/3b51c53dffb1e52d9210ebc01f1fb9f2f6eba9b3201fa971fd3946643c71/ftfy-5.8.tar.gz (64kB)\n",
            "\u001b[K     |████████████████████████████████| 71kB 4.4MB/s \n",
            "\u001b[?25hRequirement already satisfied: matplotlib>=2.2.3 in /usr/local/lib/python3.6/dist-packages (from flair) (3.2.2)\n",
            "Collecting mpld3==0.3\n",
            "\u001b[?25l  Downloading https://files.pythonhosted.org/packages/91/95/a52d3a83d0a29ba0d6898f6727e9858fe7a43f6c2ce81a5fe7e05f0f4912/mpld3-0.3.tar.gz (788kB)\n",
            "\u001b[K     |████████████████████████████████| 798kB 6.7MB/s \n",
            "\u001b[?25hRequirement already satisfied: torch>=1.1.0 in /usr/local/lib/python3.6/dist-packages (from flair) (1.6.0+cu101)\n",
            "Requirement already satisfied: tabulate in /usr/local/lib/python3.6/dist-packages (from flair) (0.8.7)\n",
            "Collecting transformers>=3.0.0\n",
            "\u001b[?25l  Downloading https://files.pythonhosted.org/packages/2c/4e/4f1ede0fd7a36278844a277f8d53c21f88f37f3754abf76a5d6224f76d4a/transformers-3.4.0-py3-none-any.whl (1.3MB)\n",
            "\u001b[K     |████████████████████████████████| 1.3MB 11.1MB/s \n",
            "\u001b[?25hCollecting sentencepiece!=0.1.92\n",
            "\u001b[?25l  Downloading https://files.pythonhosted.org/packages/d4/a4/d0a884c4300004a78cca907a6ff9a5e9fe4f090f5d95ab341c53d28cbc58/sentencepiece-0.1.91-cp36-cp36m-manylinux1_x86_64.whl (1.1MB)\n",
            "\u001b[K     |████████████████████████████████| 1.1MB 21.5MB/s \n",
            "\u001b[?25hCollecting pytest>=5.3.2\n",
            "\u001b[?25l  Downloading https://files.pythonhosted.org/packages/d6/36/9e022b76a3ac440e1d750c64fa6152469f988efe0c568b945e396e2693b5/pytest-6.1.1-py3-none-any.whl (272kB)\n",
            "\u001b[K     |████████████████████████████████| 276kB 42.2MB/s \n",
            "\u001b[?25hRequirement already satisfied: python-dateutil>=2.6.1 in /usr/local/lib/python3.6/dist-packages (from flair) (2.8.1)\n",
            "Requirement already satisfied: regex in /usr/local/lib/python3.6/dist-packages (from flair) (2019.12.20)\n",
            "Collecting langdetect\n",
            "\u001b[?25l  Downloading https://files.pythonhosted.org/packages/56/a3/8407c1e62d5980188b4acc45ef3d94b933d14a2ebc9ef3505f22cf772570/langdetect-1.0.8.tar.gz (981kB)\n",
            "\u001b[K     |████████████████████████████████| 983kB 34.2MB/s \n",
            "\u001b[?25hRequirement already satisfied: gdown in /usr/local/lib/python3.6/dist-packages (from flair) (3.6.4)\n",
            "Collecting janome\n",
            "\u001b[?25l  Downloading https://files.pythonhosted.org/packages/a8/63/98858cbead27df7536c7e300c169da0999e9704d02220dc6700b804eeff0/Janome-0.4.1-py2.py3-none-any.whl (19.7MB)\n",
            "\u001b[K     |████████████████████████████████| 19.7MB 4.2MB/s \n",
            "\u001b[?25hRequirement already satisfied: lxml in /usr/local/lib/python3.6/dist-packages (from flair) (4.2.6)\n",
            "Requirement already satisfied: scikit-learn>=0.21.3 in /usr/local/lib/python3.6/dist-packages (from flair) (0.22.2.post1)\n",
            "Collecting deprecated>=1.2.4\n",
            "  Downloading https://files.pythonhosted.org/packages/76/a1/05d7f62f956d77b23a640efc650f80ce24483aa2f85a09c03fb64f49e879/Deprecated-1.2.10-py2.py3-none-any.whl\n",
            "Collecting segtok>=1.5.7\n",
            "  Downloading https://files.pythonhosted.org/packages/41/08/582dab5f4b1d5ca23bc6927b4bb977c8ff7f3a87a3b98844ef833e2f5623/segtok-1.5.10.tar.gz\n",
            "Requirement already satisfied: numpy in /usr/local/lib/python3.6/dist-packages (from bpemb>=0.3.2->flair) (1.18.5)\n",
            "Requirement already satisfied: requests in /usr/local/lib/python3.6/dist-packages (from bpemb>=0.3.2->flair) (2.23.0)\n",
            "Collecting overrides==3.0.0\n",
            "  Downloading https://files.pythonhosted.org/packages/42/8d/caa729f809ecdf8e76fac3c1ff7d3f0b72c398c9dd8a6919927a30a873b3/overrides-3.0.0.tar.gz\n",
            "Requirement already satisfied: scipy in /usr/local/lib/python3.6/dist-packages (from hyperopt>=0.1.1->flair) (1.4.1)\n",
            "Requirement already satisfied: networkx in /usr/local/lib/python3.6/dist-packages (from hyperopt>=0.1.1->flair) (2.5)\n",
            "Requirement already satisfied: six in /usr/local/lib/python3.6/dist-packages (from hyperopt>=0.1.1->flair) (1.15.0)\n",
            "Requirement already satisfied: future in /usr/local/lib/python3.6/dist-packages (from hyperopt>=0.1.1->flair) (0.16.0)\n",
            "Requirement already satisfied: pymongo in /usr/local/lib/python3.6/dist-packages (from hyperopt>=0.1.1->flair) (3.11.0)\n",
            "Requirement already satisfied: smart-open>=1.2.1 in /usr/local/lib/python3.6/dist-packages (from gensim>=3.4.0->flair) (2.2.0)\n",
            "Requirement already satisfied: wcwidth in /usr/local/lib/python3.6/dist-packages (from ftfy->flair) (0.2.5)\n",
            "Requirement already satisfied: cycler>=0.10 in /usr/local/lib/python3.6/dist-packages (from matplotlib>=2.2.3->flair) (0.10.0)\n",
            "Requirement already satisfied: pyparsing!=2.0.4,!=2.1.2,!=2.1.6,>=2.0.1 in /usr/local/lib/python3.6/dist-packages (from matplotlib>=2.2.3->flair) (2.4.7)\n",
            "Requirement already satisfied: kiwisolver>=1.0.1 in /usr/local/lib/python3.6/dist-packages (from matplotlib>=2.2.3->flair) (1.2.0)\n",
            "Collecting sacremoses\n",
            "\u001b[?25l  Downloading https://files.pythonhosted.org/packages/7d/34/09d19aff26edcc8eb2a01bed8e98f13a1537005d31e95233fd48216eed10/sacremoses-0.0.43.tar.gz (883kB)\n",
            "\u001b[K     |████████████████████████████████| 890kB 33.5MB/s \n",
            "\u001b[?25hRequirement already satisfied: filelock in /usr/local/lib/python3.6/dist-packages (from transformers>=3.0.0->flair) (3.0.12)\n",
            "Requirement already satisfied: protobuf in /usr/local/lib/python3.6/dist-packages (from transformers>=3.0.0->flair) (3.12.4)\n",
            "Requirement already satisfied: dataclasses; python_version < \"3.7\" in /usr/local/lib/python3.6/dist-packages (from transformers>=3.0.0->flair) (0.7)\n",
            "Requirement already satisfied: packaging in /usr/local/lib/python3.6/dist-packages (from transformers>=3.0.0->flair) (20.4)\n",
            "Collecting tokenizers==0.9.2\n",
            "\u001b[?25l  Downloading https://files.pythonhosted.org/packages/7c/a5/78be1a55b2ac8d6a956f0a211d372726e2b1dd2666bb537fea9b03abd62c/tokenizers-0.9.2-cp36-cp36m-manylinux1_x86_64.whl (2.9MB)\n",
            "\u001b[K     |████████████████████████████████| 2.9MB 41.5MB/s \n",
            "\u001b[?25hRequirement already satisfied: iniconfig in /usr/local/lib/python3.6/dist-packages (from pytest>=5.3.2->flair) (1.1.1)\n",
            "Collecting pluggy<1.0,>=0.12\n",
            "  Downloading https://files.pythonhosted.org/packages/a0/28/85c7aa31b80d150b772fbe4a229487bc6644da9ccb7e427dd8cc60cb8a62/pluggy-0.13.1-py2.py3-none-any.whl\n",
            "Requirement already satisfied: toml in /usr/local/lib/python3.6/dist-packages (from pytest>=5.3.2->flair) (0.10.1)\n",
            "Requirement already satisfied: attrs>=17.4.0 in /usr/local/lib/python3.6/dist-packages (from pytest>=5.3.2->flair) (20.2.0)\n",
            "Requirement already satisfied: importlib-metadata>=0.12; python_version < \"3.8\" in /usr/local/lib/python3.6/dist-packages (from pytest>=5.3.2->flair) (2.0.0)\n",
            "Requirement already satisfied: py>=1.8.2 in /usr/local/lib/python3.6/dist-packages (from pytest>=5.3.2->flair) (1.9.0)\n",
            "Requirement already satisfied: joblib>=0.11 in /usr/local/lib/python3.6/dist-packages (from scikit-learn>=0.21.3->flair) (0.16.0)\n",
            "Requirement already satisfied: wrapt<2,>=1.10 in /usr/local/lib/python3.6/dist-packages (from deprecated>=1.2.4->flair) (1.12.1)\n",
            "Requirement already satisfied: certifi>=2017.4.17 in /usr/local/lib/python3.6/dist-packages (from requests->bpemb>=0.3.2->flair) (2020.6.20)\n",
            "Requirement already satisfied: urllib3!=1.25.0,!=1.25.1,<1.26,>=1.21.1 in /usr/local/lib/python3.6/dist-packages (from requests->bpemb>=0.3.2->flair) (1.24.3)\n",
            "Requirement already satisfied: idna<3,>=2.5 in /usr/local/lib/python3.6/dist-packages (from requests->bpemb>=0.3.2->flair) (2.10)\n",
            "Requirement already satisfied: chardet<4,>=3.0.2 in /usr/local/lib/python3.6/dist-packages (from requests->bpemb>=0.3.2->flair) (3.0.4)\n",
            "Requirement already satisfied: decorator>=4.3.0 in /usr/local/lib/python3.6/dist-packages (from networkx->hyperopt>=0.1.1->flair) (4.4.2)\n",
            "Requirement already satisfied: click in /usr/local/lib/python3.6/dist-packages (from sacremoses->transformers>=3.0.0->flair) (7.1.2)\n",
            "Requirement already satisfied: setuptools in /usr/local/lib/python3.6/dist-packages (from protobuf->transformers>=3.0.0->flair) (50.3.0)\n",
            "Requirement already satisfied: zipp>=0.5 in /usr/local/lib/python3.6/dist-packages (from importlib-metadata>=0.12; python_version < \"3.8\"->pytest>=5.3.2->flair) (3.2.0)\n",
            "Building wheels for collected packages: sqlitedict, ftfy, mpld3, langdetect, segtok, overrides, sacremoses\n",
            "  Building wheel for sqlitedict (setup.py) ... \u001b[?25l\u001b[?25hdone\n",
            "  Created wheel for sqlitedict: filename=sqlitedict-1.7.0-cp36-none-any.whl size=14377 sha256=a4cc06186d046dcaaa8f643a1cb08e26bff6dc752eede8b1447c455bb43a5ebe\n",
            "  Stored in directory: /root/.cache/pip/wheels/cf/c6/4f/2c64a43f041415eb8b8740bd80e15e92f0d46c5e464d8e4b9b\n",
            "  Building wheel for ftfy (setup.py) ... \u001b[?25l\u001b[?25hdone\n",
            "  Created wheel for ftfy: filename=ftfy-5.8-cp36-none-any.whl size=45612 sha256=fa99df84c632f9e7c8c2d56eee812f7b1fd150e2521622ebf57e87b3463d33e2\n",
            "  Stored in directory: /root/.cache/pip/wheels/ba/c0/ef/f28c4da5ac84a4e06ac256ca9182fc34fa57fefffdbc68425b\n",
            "  Building wheel for mpld3 (setup.py) ... \u001b[?25l\u001b[?25hdone\n",
            "  Created wheel for mpld3: filename=mpld3-0.3-cp36-none-any.whl size=116677 sha256=131cb70a14f5e82fdd4af2f9c79bdfaefca483af5dd00232c6a47a0fa7253cae\n",
            "  Stored in directory: /root/.cache/pip/wheels/c0/47/fb/8a64f89aecfe0059830479308ad42d62e898a3e3cefdf6ba28\n",
            "  Building wheel for langdetect (setup.py) ... \u001b[?25l\u001b[?25hdone\n",
            "  Created wheel for langdetect: filename=langdetect-1.0.8-cp36-none-any.whl size=993195 sha256=e5c2c2eb71db5085b0a52b9c93db18c1f953b5014df00a597f3ab1d7d9003b41\n",
            "  Stored in directory: /root/.cache/pip/wheels/8d/b3/aa/6d99de9f3841d7d3d40a60ea06e6d669e8e5012e6c8b947a57\n",
            "  Building wheel for segtok (setup.py) ... \u001b[?25l\u001b[?25hdone\n",
            "  Created wheel for segtok: filename=segtok-1.5.10-cp36-none-any.whl size=25021 sha256=53cec9d2b20fd1291dbb576416cf2e84ac3c7dc4098b3b39c34a00672c7183d4\n",
            "  Stored in directory: /root/.cache/pip/wheels/b4/39/f6/9ca1c5cabde964d728023b5751c3a206a5c8cc40252321fb6b\n",
            "  Building wheel for overrides (setup.py) ... \u001b[?25l\u001b[?25hdone\n",
            "  Created wheel for overrides: filename=overrides-3.0.0-cp36-none-any.whl size=5669 sha256=84ff06babfdac309bace1222f7fcfb89b3c06d9645076ef6625c5a8c4cb25cce\n",
            "  Stored in directory: /root/.cache/pip/wheels/6f/1b/ec/6c71a1eb823df7f850d956b2d8c50a6d49c191e1063d73b9be\n",
            "  Building wheel for sacremoses (setup.py) ... \u001b[?25l\u001b[?25hdone\n",
            "  Created wheel for sacremoses: filename=sacremoses-0.0.43-cp36-none-any.whl size=893257 sha256=64b2677201720087fa432c52789911379dddde53b18073bfda4fe17c5d3ef642\n",
            "  Stored in directory: /root/.cache/pip/wheels/29/3c/fd/7ce5c3f0666dab31a50123635e6fb5e19ceb42ce38d4e58f45\n",
            "Successfully built sqlitedict ftfy mpld3 langdetect segtok overrides sacremoses\n",
            "\u001b[31mERROR: datascience 0.10.6 has requirement folium==0.2.1, but you'll have folium 0.8.3 which is incompatible.\u001b[0m\n",
            "Installing collected packages: sentencepiece, bpemb, sqlitedict, overrides, konoha, ftfy, mpld3, sacremoses, tokenizers, transformers, pluggy, pytest, langdetect, janome, deprecated, segtok, flair\n",
            "  Found existing installation: pluggy 0.7.1\n",
            "    Uninstalling pluggy-0.7.1:\n",
            "      Successfully uninstalled pluggy-0.7.1\n",
            "  Found existing installation: pytest 3.6.4\n",
            "    Uninstalling pytest-3.6.4:\n",
            "      Successfully uninstalled pytest-3.6.4\n",
            "Successfully installed bpemb-0.3.2 deprecated-1.2.10 flair-0.6.1 ftfy-5.8 janome-0.4.1 konoha-4.6.2 langdetect-1.0.8 mpld3-0.3 overrides-3.0.0 pluggy-0.13.1 pytest-6.1.1 sacremoses-0.0.43 segtok-1.5.10 sentencepiece-0.1.91 sqlitedict-1.7.0 tokenizers-0.9.2 transformers-3.4.0\n",
            "[nltk_data] Downloading package stopwords to /root/nltk_data...\n",
            "[nltk_data]   Unzipping corpora/stopwords.zip.\n",
            "Requirement already satisfied: en_core_web_sm==2.2.5 from https://github.com/explosion/spacy-models/releases/download/en_core_web_sm-2.2.5/en_core_web_sm-2.2.5.tar.gz#egg=en_core_web_sm==2.2.5 in /usr/local/lib/python3.6/dist-packages (2.2.5)\n",
            "Requirement already satisfied: spacy>=2.2.2 in /usr/local/lib/python3.6/dist-packages (from en_core_web_sm==2.2.5) (2.2.4)\n",
            "Requirement already satisfied: thinc==7.4.0 in /usr/local/lib/python3.6/dist-packages (from spacy>=2.2.2->en_core_web_sm==2.2.5) (7.4.0)\n",
            "Requirement already satisfied: numpy>=1.15.0 in /usr/local/lib/python3.6/dist-packages (from spacy>=2.2.2->en_core_web_sm==2.2.5) (1.18.5)\n",
            "Requirement already satisfied: plac<1.2.0,>=0.9.6 in /usr/local/lib/python3.6/dist-packages (from spacy>=2.2.2->en_core_web_sm==2.2.5) (1.1.3)\n",
            "Requirement already satisfied: requests<3.0.0,>=2.13.0 in /usr/local/lib/python3.6/dist-packages (from spacy>=2.2.2->en_core_web_sm==2.2.5) (2.23.0)\n",
            "Requirement already satisfied: murmurhash<1.1.0,>=0.28.0 in /usr/local/lib/python3.6/dist-packages (from spacy>=2.2.2->en_core_web_sm==2.2.5) (1.0.2)\n",
            "Requirement already satisfied: blis<0.5.0,>=0.4.0 in /usr/local/lib/python3.6/dist-packages (from spacy>=2.2.2->en_core_web_sm==2.2.5) (0.4.1)\n",
            "Requirement already satisfied: preshed<3.1.0,>=3.0.2 in /usr/local/lib/python3.6/dist-packages (from spacy>=2.2.2->en_core_web_sm==2.2.5) (3.0.2)\n",
            "Requirement already satisfied: srsly<1.1.0,>=1.0.2 in /usr/local/lib/python3.6/dist-packages (from spacy>=2.2.2->en_core_web_sm==2.2.5) (1.0.2)\n",
            "Requirement already satisfied: catalogue<1.1.0,>=0.0.7 in /usr/local/lib/python3.6/dist-packages (from spacy>=2.2.2->en_core_web_sm==2.2.5) (1.0.0)\n",
            "Requirement already satisfied: setuptools in /usr/local/lib/python3.6/dist-packages (from spacy>=2.2.2->en_core_web_sm==2.2.5) (50.3.0)\n",
            "Requirement already satisfied: wasabi<1.1.0,>=0.4.0 in /usr/local/lib/python3.6/dist-packages (from spacy>=2.2.2->en_core_web_sm==2.2.5) (0.8.0)\n",
            "Requirement already satisfied: tqdm<5.0.0,>=4.38.0 in /usr/local/lib/python3.6/dist-packages (from spacy>=2.2.2->en_core_web_sm==2.2.5) (4.41.1)\n",
            "Requirement already satisfied: cymem<2.1.0,>=2.0.2 in /usr/local/lib/python3.6/dist-packages (from spacy>=2.2.2->en_core_web_sm==2.2.5) (2.0.3)\n",
            "Requirement already satisfied: urllib3!=1.25.0,!=1.25.1,<1.26,>=1.21.1 in /usr/local/lib/python3.6/dist-packages (from requests<3.0.0,>=2.13.0->spacy>=2.2.2->en_core_web_sm==2.2.5) (1.24.3)\n",
            "Requirement already satisfied: idna<3,>=2.5 in /usr/local/lib/python3.6/dist-packages (from requests<3.0.0,>=2.13.0->spacy>=2.2.2->en_core_web_sm==2.2.5) (2.10)\n",
            "Requirement already satisfied: chardet<4,>=3.0.2 in /usr/local/lib/python3.6/dist-packages (from requests<3.0.0,>=2.13.0->spacy>=2.2.2->en_core_web_sm==2.2.5) (3.0.4)\n",
            "Requirement already satisfied: certifi>=2017.4.17 in /usr/local/lib/python3.6/dist-packages (from requests<3.0.0,>=2.13.0->spacy>=2.2.2->en_core_web_sm==2.2.5) (2020.6.20)\n",
            "Requirement already satisfied: importlib-metadata>=0.20; python_version < \"3.8\" in /usr/local/lib/python3.6/dist-packages (from catalogue<1.1.0,>=0.0.7->spacy>=2.2.2->en_core_web_sm==2.2.5) (2.0.0)\n",
            "Requirement already satisfied: zipp>=0.5 in /usr/local/lib/python3.6/dist-packages (from importlib-metadata>=0.20; python_version < \"3.8\"->catalogue<1.1.0,>=0.0.7->spacy>=2.2.2->en_core_web_sm==2.2.5) (3.2.0)\n",
            "\u001b[38;5;2m✔ Download and installation successful\u001b[0m\n",
            "You can now load the model via spacy.load('en_core_web_sm')\n",
            "\u001b[38;5;2m✔ Linking successful\u001b[0m\n",
            "/usr/local/lib/python3.6/dist-packages/en_core_web_sm -->\n",
            "/usr/local/lib/python3.6/dist-packages/spacy/data/en\n",
            "You can now load the model via spacy.load('en')\n"
          ],
          "name": "stdout"
        }
      ]
    },
    {
      "cell_type": "code",
      "metadata": {
        "id": "RhZetqzwxCLE"
      },
      "source": [
        "# сначала поработаю с русским\n",
        "text_ru = 'К счастью, больной был прооперирован удачно. Новый факультет, образованный в институте по приказу министерства, пользуется большой популярностью. Девушка очень образованная. Больной котенок нашел дом и выздоровел! Морозна ночь, все небо ясно. Он не заметил нас и прошел мимо, хотя вокруг было относительно светло, и мне стало всё ясно. Мой друг снова прошел мимо меня, не поздоровавшись, зато новые друзья были мне рады. Что же ты стоишь? Что ты будешь делать? Он сказал мне, что не приедет. Он ушел, как стемнело. Она обратила внимание на то, как стало темно. У меня в руках была ручная пила. Три дня я пила только воду.'\n",
        "# трудные для автоматического посттеггинга моменты:\n",
        "# сущ/прил «больной был прооперирован удачно» и «больной котенок нашел дом»\n",
        "# прич/прил «факультет, образованный в институте» и «девушка очень образованная»\n",
        "# кр.прил/нареч «небо ясно» и «всё ясно»\n",
        "# нареч/предлог «прошел мимо» и «прошел мимо меня»\n",
        "# нареч/местоим «что ты стоишь?» и «что будешь делать?»\n",
        "# союз/метсоим «ушел, как стемнело» и «обратила внимание на то, как стало темно»\n",
        "# сущ/гл «ручная пила» и «пила только воду»\n",
        "\n",
        "text_ru = text_ru.lower()  # так будет удобнее сравнивать рез-ты, потому что pymorphy сам приводит всё к нижнему регистру\n",
        "\n",
        "# чищу и токенизирую для pymorphy и mystem\n",
        "ru_text_clean = re.sub('[₽#&-;\\*\\(\\(,.!?\\d]', ' ', text_ru)\n",
        "ru_text_split = ru_text_clean.split()"
      ],
      "execution_count": 9,
      "outputs": []
    },
    {
      "cell_type": "code",
      "metadata": {
        "id": "y5bWsY6BxMRD"
      },
      "source": [
        "ru_pymorphy_raw = []  # использую pymorphy\n",
        "morph = pymorphy2.MorphAnalyzer()\n",
        "for i in range(len(ru_text_split)):\n",
        "    ru_pymorphy_raw.append(morph.parse(ru_text_split[i]))\n",
        "ru_pymorphy_str = str(ru_pymorphy_raw)\n",
        "# привожу к единому стандарту. не стала делать функцию, тк у всех теггеров разные теги…\n",
        "ru_pymorphy_str = re.sub('ADJ[SF]', 'ADJ', ru_pymorphy_str)\n",
        "ru_pymorphy_str = re.sub('PRT[SF]', 'VERB', ru_pymorphy_str)\n",
        "ru_pymorphy_str = re.sub('GRND', 'VERB', ru_pymorphy_str)\n",
        "ru_pymorphy_str = re.sub('INFN', 'VERB', ru_pymorphy_str)\n",
        "ru_pymorphy_str = re.sub('ADVB', 'ADV', ru_pymorphy_str)\n",
        "ru_pymorphy_str = re.sub('PRCL', 'PTLC', ru_pymorphy_str)\n",
        "ru_pymorphy_str = re.sub('NPRO', 'PRO', ru_pymorphy_str)\n",
        "ru_pymorphy_str = re.sub('NUMR', 'NUM', ru_pymorphy_str)\n",
        "ru_pymorphy = re.findall('\\[Parse\\(word=\\'([а-яё]+)\\',\\stag=OpencorporaTag\\(\\'([A-Z]+)', ru_pymorphy_str)"
      ],
      "execution_count": 10,
      "outputs": []
    },
    {
      "cell_type": "code",
      "metadata": {
        "id": "aOwM5FNmy9_s",
        "outputId": "7f563986-321e-42cc-a711-0ecabba85a43",
        "colab": {
          "base_uri": "https://localhost:8080/",
          "height": 658
        }
      },
      "source": [
        "from pymystem3 import Mystem\n",
        "!wget http://download.cdn.yandex.net/mystem/mystem-3.0-linu..\n",
        "!tar -xvf mystem-3.0-linux3.1-64bit.tar.gz\n",
        "!cp mystem /root/.local/bin/mystem\n",
        "\n",
        "m = Mystem()  # использую mystem. в колабе что-то тормозит (было написано что-то про установку mystem откуда-то…) \n",
        "ru_text_str = str(ru_text_split)  # нашла решение, которое приписала выше, но оно тоже не помогает. \n",
        "ru_mystem_raw = m.analyze(ru_text_str)  # в след. ячейке пропишу от руки то, что получила в этом месте кода \n",
        "ru_mystem_str = str(ru_mystem_raw)  # + добавлю в реп файл «2.py», где есть вся русская часть кода. эх, а хотела всё красиво собрать в одном месте…\n",
        "ru_mystem_str = re.sub('S', 'NOUN', ru_mystem_str)  # привожу к единому стандарту\n",
        "ru_mystem_str = re.sub('A', 'ADJ', ru_mystem_str)\n",
        "ru_mystem_str = re.sub('PR', 'PREP', ru_mystem_str)\n",
        "ru_mystem_str = re.sub('V', 'VERB', ru_mystem_str)\n",
        "ru_mystem_str = re.sub('[AS]PRO', 'PRO', ru_mystem_str)\n",
        "ru_mystem_str = re.sub('PART', 'PTCL', ru_mystem_str)\n",
        "ru_mystem = re.findall('text\\':\\s\\'([а-яА-Яё]+)\\',\\s\\'[a-z]+\\':\\s\\[\\{\\'wt\\':\\s[\\d\\.]+,\\s\\'lex\\':\\s\\'[а-яё]+\\',\\s\\'gr\\':\\s\\'([A-Z]+)', ru_mystem_str)"
      ],
      "execution_count": null,
      "outputs": [
        {
          "output_type": "stream",
          "text": [
            "--2020-10-21 01:35:25--  http://download.cdn.yandex.net/mystem/mystem-3.0-linu..\n",
            "Resolving download.cdn.yandex.net (download.cdn.yandex.net)... 5.45.205.242, 5.45.205.245, 5.45.205.244, ...\n",
            "Connecting to download.cdn.yandex.net (download.cdn.yandex.net)|5.45.205.242|:80... connected.\n",
            "HTTP request sent, awaiting response... 302 Found\n",
            "Location: http://cache-mskmar02.cdn.yandex.net/download.cdn.yandex.net/mystem/mystem-3.0-linu.. [following]\n",
            "--2020-10-21 01:35:26--  http://cache-mskmar02.cdn.yandex.net/download.cdn.yandex.net/mystem/mystem-3.0-linu..\n",
            "Resolving cache-mskmar02.cdn.yandex.net (cache-mskmar02.cdn.yandex.net)... 5.45.222.26, 2a02:6b8:0:2b03::e2\n",
            "Connecting to cache-mskmar02.cdn.yandex.net (cache-mskmar02.cdn.yandex.net)|5.45.222.26|:80... connected.\n",
            "HTTP request sent, awaiting response... 404 Not Found\n",
            "2020-10-21 01:35:27 ERROR 404: Not Found.\n",
            "\n",
            "tar: mystem-3.0-linux3.1-64bit.tar.gz: Cannot open: No such file or directory\n",
            "tar: Error is not recoverable: exiting now\n",
            "cp: cannot stat 'mystem': No such file or directory\n"
          ],
          "name": "stdout"
        },
        {
          "output_type": "error",
          "ename": "KeyboardInterrupt",
          "evalue": "ignored",
          "traceback": [
            "\u001b[0;31m---------------------------------------------------------------------------\u001b[0m",
            "\u001b[0;31mJSONDecodeError\u001b[0m                           Traceback (most recent call last)",
            "\u001b[0;32m/usr/lib/python3.6/json/decoder.py\u001b[0m in \u001b[0;36mraw_decode\u001b[0;34m(self, s, idx)\u001b[0m\n\u001b[1;32m    356\u001b[0m         \u001b[0;32mexcept\u001b[0m \u001b[0mStopIteration\u001b[0m \u001b[0;32mas\u001b[0m \u001b[0merr\u001b[0m\u001b[0;34m:\u001b[0m\u001b[0;34m\u001b[0m\u001b[0;34m\u001b[0m\u001b[0m\n\u001b[0;32m--> 357\u001b[0;31m             \u001b[0;32mraise\u001b[0m \u001b[0mJSONDecodeError\u001b[0m\u001b[0;34m(\u001b[0m\u001b[0;34m\"Expecting value\"\u001b[0m\u001b[0;34m,\u001b[0m \u001b[0ms\u001b[0m\u001b[0;34m,\u001b[0m \u001b[0merr\u001b[0m\u001b[0;34m.\u001b[0m\u001b[0mvalue\u001b[0m\u001b[0;34m)\u001b[0m \u001b[0;32mfrom\u001b[0m \u001b[0;32mNone\u001b[0m\u001b[0;34m\u001b[0m\u001b[0;34m\u001b[0m\u001b[0m\n\u001b[0m\u001b[1;32m    358\u001b[0m         \u001b[0;32mreturn\u001b[0m \u001b[0mobj\u001b[0m\u001b[0;34m,\u001b[0m \u001b[0mend\u001b[0m\u001b[0;34m\u001b[0m\u001b[0;34m\u001b[0m\u001b[0m\n",
            "\u001b[0;31mJSONDecodeError\u001b[0m: Expecting value: line 1 column 1 (char 0)",
            "\nDuring handling of the above exception, another exception occurred:\n",
            "\u001b[0;31mKeyboardInterrupt\u001b[0m                         Traceback (most recent call last)",
            "\u001b[0;32m<ipython-input-15-71c6941edb03>\u001b[0m in \u001b[0;36m<module>\u001b[0;34m()\u001b[0m\n\u001b[1;32m      6\u001b[0m \u001b[0mm\u001b[0m \u001b[0;34m=\u001b[0m \u001b[0mMystem\u001b[0m\u001b[0;34m(\u001b[0m\u001b[0;34m)\u001b[0m  \u001b[0;31m# использую mystem. в колабе что-то тормозит (было написано что-то про установку mystem откуда-то…)\u001b[0m\u001b[0;34m\u001b[0m\u001b[0;34m\u001b[0m\u001b[0m\n\u001b[1;32m      7\u001b[0m \u001b[0mru_text_str\u001b[0m \u001b[0;34m=\u001b[0m \u001b[0mstr\u001b[0m\u001b[0;34m(\u001b[0m\u001b[0mru_text_split\u001b[0m\u001b[0;34m)\u001b[0m  \u001b[0;31m# но я это писала в pycharm, и там всё работало. если что вот мой тг: t.me/nstsi\u001b[0m\u001b[0;34m\u001b[0m\u001b[0;34m\u001b[0m\u001b[0m\n\u001b[0;32m----> 8\u001b[0;31m \u001b[0mru_mystem_raw\u001b[0m \u001b[0;34m=\u001b[0m \u001b[0mm\u001b[0m\u001b[0;34m.\u001b[0m\u001b[0manalyze\u001b[0m\u001b[0;34m(\u001b[0m\u001b[0mru_text_str\u001b[0m\u001b[0;34m)\u001b[0m\u001b[0;34m\u001b[0m\u001b[0;34m\u001b[0m\u001b[0m\n\u001b[0m\u001b[1;32m      9\u001b[0m \u001b[0mru_mystem_str\u001b[0m \u001b[0;34m=\u001b[0m \u001b[0mstr\u001b[0m\u001b[0;34m(\u001b[0m\u001b[0mru_mystem_raw\u001b[0m\u001b[0;34m)\u001b[0m\u001b[0;34m\u001b[0m\u001b[0;34m\u001b[0m\u001b[0m\n\u001b[1;32m     10\u001b[0m \u001b[0mru_mystem_str\u001b[0m \u001b[0;34m=\u001b[0m \u001b[0mre\u001b[0m\u001b[0;34m.\u001b[0m\u001b[0msub\u001b[0m\u001b[0;34m(\u001b[0m\u001b[0;34m'S'\u001b[0m\u001b[0;34m,\u001b[0m \u001b[0;34m'NOUN'\u001b[0m\u001b[0;34m,\u001b[0m \u001b[0mru_mystem_str\u001b[0m\u001b[0;34m)\u001b[0m  \u001b[0;31m# привожу к единому стандарту\u001b[0m\u001b[0;34m\u001b[0m\u001b[0;34m\u001b[0m\u001b[0m\n",
            "\u001b[0;32m/usr/local/lib/python3.6/dist-packages/pymystem3/mystem.py\u001b[0m in \u001b[0;36manalyze\u001b[0;34m(self, text)\u001b[0m\n\u001b[1;32m    248\u001b[0m         \u001b[0mresult\u001b[0m \u001b[0;34m=\u001b[0m \u001b[0;34m[\u001b[0m\u001b[0;34m]\u001b[0m\u001b[0;34m\u001b[0m\u001b[0;34m\u001b[0m\u001b[0m\n\u001b[1;32m    249\u001b[0m         \u001b[0;32mfor\u001b[0m \u001b[0mline\u001b[0m \u001b[0;32min\u001b[0m \u001b[0mtext\u001b[0m\u001b[0;34m.\u001b[0m\u001b[0msplitlines\u001b[0m\u001b[0;34m(\u001b[0m\u001b[0;34m)\u001b[0m\u001b[0;34m:\u001b[0m\u001b[0;34m\u001b[0m\u001b[0;34m\u001b[0m\u001b[0m\n\u001b[0;32m--> 250\u001b[0;31m             \u001b[0mresult\u001b[0m\u001b[0;34m.\u001b[0m\u001b[0mextend\u001b[0m\u001b[0;34m(\u001b[0m\u001b[0mself\u001b[0m\u001b[0;34m.\u001b[0m\u001b[0m_analyze_impl\u001b[0m\u001b[0;34m(\u001b[0m\u001b[0mline\u001b[0m\u001b[0;34m)\u001b[0m\u001b[0;34m)\u001b[0m\u001b[0;34m\u001b[0m\u001b[0;34m\u001b[0m\u001b[0m\n\u001b[0m\u001b[1;32m    251\u001b[0m         \u001b[0;32mreturn\u001b[0m \u001b[0mresult\u001b[0m\u001b[0;34m\u001b[0m\u001b[0;34m\u001b[0m\u001b[0m\n\u001b[1;32m    252\u001b[0m \u001b[0;34m\u001b[0m\u001b[0m\n",
            "\u001b[0;32m/usr/local/lib/python3.6/dist-packages/pymystem3/mystem.py\u001b[0m in \u001b[0;36m_analyze_impl\u001b[0;34m(self, text)\u001b[0m\n\u001b[1;32m    291\u001b[0m                     \u001b[0mout\u001b[0m \u001b[0;34m=\u001b[0m \u001b[0mself\u001b[0m\u001b[0;34m.\u001b[0m\u001b[0m_procout\u001b[0m\u001b[0;34m.\u001b[0m\u001b[0mread\u001b[0m\u001b[0;34m(\u001b[0m\u001b[0;34m)\u001b[0m\u001b[0;34m\u001b[0m\u001b[0;34m\u001b[0m\u001b[0m\n\u001b[1;32m    292\u001b[0m                     \u001b[0msio\u001b[0m\u001b[0;34m.\u001b[0m\u001b[0mwrite\u001b[0m\u001b[0;34m(\u001b[0m\u001b[0mout\u001b[0m\u001b[0;34m)\u001b[0m\u001b[0;34m\u001b[0m\u001b[0;34m\u001b[0m\u001b[0m\n\u001b[0;32m--> 293\u001b[0;31m                     \u001b[0mobj\u001b[0m \u001b[0;34m=\u001b[0m \u001b[0mjson\u001b[0m\u001b[0;34m.\u001b[0m\u001b[0mloads\u001b[0m\u001b[0;34m(\u001b[0m\u001b[0msio\u001b[0m\u001b[0;34m.\u001b[0m\u001b[0mgetvalue\u001b[0m\u001b[0;34m(\u001b[0m\u001b[0;34m)\u001b[0m\u001b[0;34m.\u001b[0m\u001b[0mdecode\u001b[0m\u001b[0;34m(\u001b[0m\u001b[0;34m'utf-8'\u001b[0m\u001b[0;34m)\u001b[0m\u001b[0;34m)\u001b[0m\u001b[0;34m\u001b[0m\u001b[0;34m\u001b[0m\u001b[0m\n\u001b[0m\u001b[1;32m    294\u001b[0m                     \u001b[0;32mbreak\u001b[0m\u001b[0;34m\u001b[0m\u001b[0;34m\u001b[0m\u001b[0m\n\u001b[1;32m    295\u001b[0m                 \u001b[0;32mexcept\u001b[0m \u001b[0;34m(\u001b[0m\u001b[0mIOError\u001b[0m\u001b[0;34m,\u001b[0m \u001b[0mValueError\u001b[0m\u001b[0;34m)\u001b[0m\u001b[0;34m:\u001b[0m\u001b[0;34m\u001b[0m\u001b[0;34m\u001b[0m\u001b[0m\n",
            "\u001b[0;32m/usr/lib/python3.6/json/__init__.py\u001b[0m in \u001b[0;36mloads\u001b[0;34m(s, encoding, cls, object_hook, parse_float, parse_int, parse_constant, object_pairs_hook, **kw)\u001b[0m\n\u001b[1;32m    352\u001b[0m             \u001b[0mparse_int\u001b[0m \u001b[0;32mis\u001b[0m \u001b[0;32mNone\u001b[0m \u001b[0;32mand\u001b[0m \u001b[0mparse_float\u001b[0m \u001b[0;32mis\u001b[0m \u001b[0;32mNone\u001b[0m \u001b[0;32mand\u001b[0m\u001b[0;34m\u001b[0m\u001b[0;34m\u001b[0m\u001b[0m\n\u001b[1;32m    353\u001b[0m             parse_constant is None and object_pairs_hook is None and not kw):\n\u001b[0;32m--> 354\u001b[0;31m         \u001b[0;32mreturn\u001b[0m \u001b[0m_default_decoder\u001b[0m\u001b[0;34m.\u001b[0m\u001b[0mdecode\u001b[0m\u001b[0;34m(\u001b[0m\u001b[0ms\u001b[0m\u001b[0;34m)\u001b[0m\u001b[0;34m\u001b[0m\u001b[0;34m\u001b[0m\u001b[0m\n\u001b[0m\u001b[1;32m    355\u001b[0m     \u001b[0;32mif\u001b[0m \u001b[0mcls\u001b[0m \u001b[0;32mis\u001b[0m \u001b[0;32mNone\u001b[0m\u001b[0;34m:\u001b[0m\u001b[0;34m\u001b[0m\u001b[0;34m\u001b[0m\u001b[0m\n\u001b[1;32m    356\u001b[0m         \u001b[0mcls\u001b[0m \u001b[0;34m=\u001b[0m \u001b[0mJSONDecoder\u001b[0m\u001b[0;34m\u001b[0m\u001b[0;34m\u001b[0m\u001b[0m\n",
            "\u001b[0;32m/usr/lib/python3.6/json/decoder.py\u001b[0m in \u001b[0;36mdecode\u001b[0;34m(self, s, _w)\u001b[0m\n\u001b[1;32m    337\u001b[0m \u001b[0;34m\u001b[0m\u001b[0m\n\u001b[1;32m    338\u001b[0m         \"\"\"\n\u001b[0;32m--> 339\u001b[0;31m         \u001b[0mobj\u001b[0m\u001b[0;34m,\u001b[0m \u001b[0mend\u001b[0m \u001b[0;34m=\u001b[0m \u001b[0mself\u001b[0m\u001b[0;34m.\u001b[0m\u001b[0mraw_decode\u001b[0m\u001b[0;34m(\u001b[0m\u001b[0ms\u001b[0m\u001b[0;34m,\u001b[0m \u001b[0midx\u001b[0m\u001b[0;34m=\u001b[0m\u001b[0m_w\u001b[0m\u001b[0;34m(\u001b[0m\u001b[0ms\u001b[0m\u001b[0;34m,\u001b[0m \u001b[0;36m0\u001b[0m\u001b[0;34m)\u001b[0m\u001b[0;34m.\u001b[0m\u001b[0mend\u001b[0m\u001b[0;34m(\u001b[0m\u001b[0;34m)\u001b[0m\u001b[0;34m)\u001b[0m\u001b[0;34m\u001b[0m\u001b[0;34m\u001b[0m\u001b[0m\n\u001b[0m\u001b[1;32m    340\u001b[0m         \u001b[0mend\u001b[0m \u001b[0;34m=\u001b[0m \u001b[0m_w\u001b[0m\u001b[0;34m(\u001b[0m\u001b[0ms\u001b[0m\u001b[0;34m,\u001b[0m \u001b[0mend\u001b[0m\u001b[0;34m)\u001b[0m\u001b[0;34m.\u001b[0m\u001b[0mend\u001b[0m\u001b[0;34m(\u001b[0m\u001b[0;34m)\u001b[0m\u001b[0;34m\u001b[0m\u001b[0;34m\u001b[0m\u001b[0m\n\u001b[1;32m    341\u001b[0m         \u001b[0;32mif\u001b[0m \u001b[0mend\u001b[0m \u001b[0;34m!=\u001b[0m \u001b[0mlen\u001b[0m\u001b[0;34m(\u001b[0m\u001b[0ms\u001b[0m\u001b[0;34m)\u001b[0m\u001b[0;34m:\u001b[0m\u001b[0;34m\u001b[0m\u001b[0;34m\u001b[0m\u001b[0m\n",
            "\u001b[0;32m/usr/lib/python3.6/json/decoder.py\u001b[0m in \u001b[0;36mraw_decode\u001b[0;34m(self, s, idx)\u001b[0m\n\u001b[1;32m    355\u001b[0m             \u001b[0mobj\u001b[0m\u001b[0;34m,\u001b[0m \u001b[0mend\u001b[0m \u001b[0;34m=\u001b[0m \u001b[0mself\u001b[0m\u001b[0;34m.\u001b[0m\u001b[0mscan_once\u001b[0m\u001b[0;34m(\u001b[0m\u001b[0ms\u001b[0m\u001b[0;34m,\u001b[0m \u001b[0midx\u001b[0m\u001b[0;34m)\u001b[0m\u001b[0;34m\u001b[0m\u001b[0;34m\u001b[0m\u001b[0m\n\u001b[1;32m    356\u001b[0m         \u001b[0;32mexcept\u001b[0m \u001b[0mStopIteration\u001b[0m \u001b[0;32mas\u001b[0m \u001b[0merr\u001b[0m\u001b[0;34m:\u001b[0m\u001b[0;34m\u001b[0m\u001b[0;34m\u001b[0m\u001b[0m\n\u001b[0;32m--> 357\u001b[0;31m             \u001b[0;32mraise\u001b[0m \u001b[0mJSONDecodeError\u001b[0m\u001b[0;34m(\u001b[0m\u001b[0;34m\"Expecting value\"\u001b[0m\u001b[0;34m,\u001b[0m \u001b[0ms\u001b[0m\u001b[0;34m,\u001b[0m \u001b[0merr\u001b[0m\u001b[0;34m.\u001b[0m\u001b[0mvalue\u001b[0m\u001b[0;34m)\u001b[0m \u001b[0;32mfrom\u001b[0m \u001b[0;32mNone\u001b[0m\u001b[0;34m\u001b[0m\u001b[0;34m\u001b[0m\u001b[0m\n\u001b[0m\u001b[1;32m    358\u001b[0m         \u001b[0;32mreturn\u001b[0m \u001b[0mobj\u001b[0m\u001b[0;34m,\u001b[0m \u001b[0mend\u001b[0m\u001b[0;34m\u001b[0m\u001b[0;34m\u001b[0m\u001b[0m\n",
            "\u001b[0;31mKeyboardInterrupt\u001b[0m: "
          ]
        }
      ]
    },
    {
      "cell_type": "code",
      "metadata": {
        "id": "j-uv77gRzoS6"
      },
      "source": [
        "ru_mystem = [('к', 'PREP'), ('счастью', 'NOUN'), ('больной', 'ADJ'), ('был', 'VERB'), ('прооперирован', 'VERB'), ('удачно', 'ADJDVERB'), ('новый', 'ADJ'), ('факультет', 'NOUN'), ('образованный', 'ADJ'), ('в', 'PREP'), ('институте', 'NOUN'), ('по', 'PREP'), ('приказу', 'NOUN'), ('министерства', 'NOUN'), ('пользуется', 'VERB'), ('большой', 'ADJ'), ('популярностью', 'NOUN'), ('девушка', 'NOUN'), ('очень', 'ADJDVERB'), ('образованная', 'ADJ'), ('больной', 'ADJ'), ('котенок', 'NOUN'), ('нашел', 'VERB'), ('дом', 'NOUN'), ('и', 'CONJ'), ('выздоровел', 'VERB'), ('морозна', 'ADJ'), ('ночь', 'NOUN'), ('все', 'NOUNPREPO'), ('небо', 'NOUN'), ('ясно', 'ADJDVERB'), ('он', 'NOUNPREPO'), ('не', 'PADJRT'), ('заметил', 'VERB'), ('нас', 'NOUNPREPO'), ('и', 'CONJ'), ('прошел', 'VERB'), ('мимо', 'ADJDVERB'), ('хотя', 'CONJ'), ('вокруг', 'ADJDVERB'), ('было', 'VERB'), ('относительно', 'ADJDVERB'), ('светло', 'ADJDVERB'), ('и', 'CONJ'), ('мне', 'NOUNPREPO'), ('стало', 'VERB'), ('всё', 'ADJDVERB'), ('ясно', 'ADJDVERB'), ('мой', 'ADJPREPO'), ('друг', 'NOUN'), ('снова', 'ADJDVERB'), ('прошел', 'VERB'), ('мимо', 'PREP'), ('меня', 'NOUNPREPO'), ('не', 'PADJRT'), ('поздоровавшись', 'VERB'), ('зато', 'CONJ'), ('новые', 'ADJ'), ('друзья', 'NOUN'), ('были', 'VERB'), ('мне', 'NOUNPREPO'), ('рады', 'ADJ'), ('что', 'NOUNPREPO'), ('же', 'PADJRT'), ('ты', 'NOUNPREPO'), ('стоишь', 'VERB'), ('что', 'CONJ'), ('ты', 'NOUNPREPO'), ('будешь', 'VERB'), ('делать', 'VERB'), ('он', 'NOUNPREPO'), ('сказал', 'VERB'), ('мне', 'NOUNPREPO'), ('что', 'CONJ'), ('не', 'PADJRT'), ('приедет', 'VERB'), ('он', 'NOUNPREPO'), ('ушел', 'VERB'), ('как', 'CONJ'), ('стемнело', 'VERB'), ('она', 'NOUNPREPO'), ('обратила', 'VERB'), ('внимание', 'NOUN'), ('на', 'PREP'), ('то', 'NOUNPREPO'), ('как', 'CONJ'), ('стало', 'VERB'), ('темно', 'ADJDVERB'), ('у', 'PREP'), ('меня', 'NOUNPREPO'), ('в', 'PREP'), ('руках', 'NOUN'), ('была', 'VERB'), ('ручная', 'ADJ'), ('пила', 'NOUN'), ('три', 'NUM'), ('дня', 'NOUN'), ('я', 'NOUNPREPO'), ('пила', 'VERB'), ('только', 'PADJRT'), ('воду', 'NOUN')]\n"
      ],
      "execution_count": 11,
      "outputs": []
    },
    {
      "cell_type": "code",
      "metadata": {
        "id": "zrmo3sTixRMA"
      },
      "source": [
        "segmenter = Segmenter()  # использую natasha\n",
        "morph_vocab = MorphVocab()\n",
        "emb = NewsEmbedding()\n",
        "morph_tagger = NewsMorphTagger(emb)\n",
        "doc = Doc(text_ru)\n",
        "doc.segment(segmenter)\n",
        "doc.tag_morph(morph_tagger)\n",
        "ru_natasha_raw = doc.tokens\n",
        "ru_natasha_str = str(ru_natasha_raw)\n",
        "ru_natasha_str = re.sub('ADP', 'PREP', ru_natasha_str)  # привожу к единому стандарту\n",
        "ru_natasha_str = re.sub('AUX', 'VERB', ru_natasha_str)\n",
        "ru_natasha_str = re.sub('CCONJ', 'CONJ', ru_natasha_str)\n",
        "ru_natasha_str = re.sub('SCONJ', 'CONJ', ru_natasha_str)\n",
        "ru_natasha_str = re.sub('PRON', 'PRO', ru_natasha_str)\n",
        "ru_natasha_str = re.sub('PART', 'PTCL', ru_natasha_str)\n",
        "ru_natasha = re.findall('text=\\'([а-яА-Яё]+)\\',\\spos=\\'([A-Z]+)', ru_natasha_str)"
      ],
      "execution_count": 12,
      "outputs": []
    },
    {
      "cell_type": "code",
      "metadata": {
        "id": "lYCMBTszxdDl"
      },
      "source": [
        "#теперь ручная разметка. разберемся сразу с обоими текстами:\n",
        "ru_manually_raw = 'к PREP счастью NOUN больной NOUN был VERB прооперирован VERB удачно ADV новый ADJ факультет NOUN образованный VERB в PREP институте NOUN по PREP приказу NOUN министерства NOUN пользуется VERB большой ADJ популярностью NOUN девушка NOUN очень ADV образованная ADJ больной ADJ котенок NOUN нашел VERB дом NOUN и CONJ выздоровел VERB морозна ADJ ночь NOUN все ADJ небо NOUN ясно ADJ он PRO не PTCL заметил VERB нас PRO и CONJ прошел VERB мимо ADV хотя CONJ вокруг PREP было VERB относительно ADV светло ADV и CONJ мне PRO стало VERB всё NOUN ясно ADV мой PRO друг NOUN снова ADV прошел VERB мимо PREP меня PRO не PTCL поздоровавшись VERB зато CONJ новые ADJ друзья NOUN были VERB мне PRO рады ADJ что ADV же PTCL ты PRO стоишь VERB что PRO ты PRO будешь VERB делать VERB он PRO сказал VERB мне PRO что CONJ не PTCL приедет VERB он PRO ушел VERB как CONJ стемнело VERB она PRO обратила VERB внимание NOUN на PREP то PRO как PRO стало VERB темно ADV у PREP меня PRO в PREP руках NOUN была VERB ручная ADJ пила NOUN три NUM дня NOUN я PRO пила VERB только ADV воду NOUN'\n",
        "en_manually_raw = 'Back VERB up ADV and CONJ give VERB me PRO an ART answer NOUN Stop VERB and CONJ answer VERB my PRO question NOUN He PRO wants VERB to PREP frame VERB me PRO for PREP stealing VERB the ART gold ADJ frame NOUN If CONJ you PRO set VERB us PRO on PREP fire NOUN the ART boss NOUN will VERB definitely ADV fire VERB you PRO I PRO saw VERB a ART giant ADJ saw NOUN outside ADV the ART shelter NOUN it PRO destroyed VERB the ART tree NOUN that CONJ was VERB about PREP to PREP flower VERB Why ADV did VERB you PRO fool VERB me PRO into PREP believing VERB that CONJ this ART function NOUN would VERB work VERB Could VERB you PRO please ADV iron VERB my PRO suit NOUN Did VERB I PRO tell VERB you PRO that CONJ they PRO paid VERB me PRO a ART visit NOUN the ART other ADJ night NOUN when ADV I PRO was VERB trying VERB to PREP finally ADV get VERB some ADJ sleep NOUN Email VERB me PRO later ADV and CONJ we PRO will VERB discuss VERB that ART email NOUN Can VERB you PRO guess VERB what ADJ type NOUN of PREP glue NOUN I PRO used VERB to PREP do VERB this ART object NOUN Wake VERB up ADV and CONJ help VERB me PRO to PREP find VERB my PRO watch NOUN'\n",
        "\n",
        "\n",
        "def manually_into_list(string_raw):  # преобразовываю ручную разметку в годный для сравненеия вид\n",
        "    string_raw = string_raw.split()\n",
        "    list = []\n",
        "    for k in range(len(string_raw)):\n",
        "        if (k != 0 and k % 2 == 1):\n",
        "            pass\n",
        "        else:\n",
        "            list.append((string_raw[k], string_raw[k + 1]))\n",
        "    return list\n",
        "\n",
        "\n",
        "ru_manually = manually_into_list(ru_manually_raw)\n",
        "en_manually = manually_into_list(en_manually_raw)"
      ],
      "execution_count": 13,
      "outputs": []
    },
    {
      "cell_type": "code",
      "metadata": {
        "id": "vMWnzKNjxoUK",
        "outputId": "0c9de231-9c9d-40ca-97fb-8c295ee7c74a",
        "colab": {
          "base_uri": "https://localhost:8080/",
          "height": 35
        }
      },
      "source": [
        "def intersection(lst1, lst2):\n",
        "    lst3 = [value for value in lst1 if value in lst2]\n",
        "    return len(lst3)\n",
        "\n",
        "\n",
        "def accuracy_check(list1, list2):  # функция вычисления точности\n",
        "    accuracy = round((intersection(list1, list2)/101), 2)\n",
        "    return accuracy\n",
        "\n",
        "\n",
        "pymorphy_accuracy = accuracy_check(ru_pymorphy, ru_manually)  # считаю\n",
        "mystem_accuracy = accuracy_check(ru_mystem, ru_manually)\n",
        "natasha_accuracy = accuracy_check(ru_natasha, ru_manually)\n",
        "\n",
        "if pymorphy_accuracy > mystem_accuracy:  # находит и объявляет самый точный русский теггер\n",
        "    if pymorphy_accuracy > natasha_accuracy:\n",
        "        print('pymorphy самый точный из русских:', pymorphy_accuracy, ' vs ', mystem_accuracy, ' и ', natasha_accuracy)\n",
        "    else:\n",
        "        print('natasha самая точная из русских:', natasha_accuracy, ' vs ', pymorphy_accuracy, ' и ', mystem_accuracy)\n",
        "elif pymorphy_accuracy < mystem_accuracy:\n",
        "    if mystem_accuracy > natasha_accuracy:\n",
        "        print('mystem самый точный из русских:', mystem_accuracy, ' vs ', pymorphy_accuracy, ' и ', natasha_accuracy)\n",
        "    else:\n",
        "        print('natasha самая точная из русских:', natasha_accuracy, ' vs ', pymorphy_accuracy, ' и ', mystem_accuracy)\n",
        "else:\n",
        "    if pymorphy_accuracy > natasha_accuracy:\n",
        "        print('pymorphy и mystem самые точные из русских:', pymorphy_accuracy, ' и ', mystem_accuracy, ' vs ', natasha_accuracy)\n",
        "    else:\n",
        "        print('natasha самая точная из русских:', natasha_accuracy, ' vs ', pymorphy_accuracy, ' и ', mystem_accuracy)\n"
      ],
      "execution_count": 14,
      "outputs": [
        {
          "output_type": "stream",
          "text": [
            "natasha самая точная из русских: 0.92  vs  0.84  и  0.66\n"
          ],
          "name": "stdout"
        }
      ]
    },
    {
      "cell_type": "code",
      "metadata": {
        "id": "gW4vqdYn0Ggc"
      },
      "source": [
        "# перехожу к английскому\n",
        "text_en = 'Back up and give me an answer. Stop and answer my question. He wants to frame me for stealing the gold frame. If you set us on fire the boss will definitely fire you. I saw a giant saw outside the shelter, it destroyed the tree that was about to flower. Why did you fool me into believing that this function would work? Could you please iron my suit? Did I tell you that they paid me a visit the other night when I was trying to finally get some sleep? Email me later and we will discuss that email. Can you guess what type of glue I used to do this object? Wake up and help me to find my watch!'\n",
        "# трудные для автоматического посттеггинга моменты:\n",
        "# сущ/гл «an answer» и «answer my question», «to frame me» и «the gold frame», «set on fire» и «the boss will fire you» и т.д.\n",
        "\n",
        "def standart(text_str):  # привожу к единому стандарту. в этот раз функция, потому что все 3 теггера используют одинаковые тэги (отличные от моих)\n",
        "    text_str = re.sub('RB', 'ADV', text_str)\n",
        "    text_str = re.sub('CC', 'CONJ', text_str)\n",
        "    text_str = re.sub('VB[ZGPD]', 'ADV', text_str)\n",
        "    text_str = re.sub('VB', 'VERB', text_str)\n",
        "    text_str = re.sub('MD', 'VERB', text_str)\n",
        "    text_str = re.sub('PRP', 'PRO', text_str)\n",
        "    text_str = re.sub('PRP\\$', 'PRO', text_str)\n",
        "    text_str = re.sub('DT', 'ART', text_str)\n",
        "    text_str = re.sub('NN', 'NOUN', text_str)\n",
        "    text_str = re.sub('TO', 'PREP', text_str)\n",
        "    text_str = re.sub('IN', 'PREP', text_str)\n",
        "    text_str = re.sub('WDT', 'CONJ', text_str)\n",
        "    text_str = re.sub('JJ', 'ADJ', text_str)\n",
        "    text_str = re.sub('WRB', 'ADV', text_str)\n",
        "    text_str = re.sub('NNP', 'PRO', text_str)\n",
        "    return text_str"
      ],
      "execution_count": 15,
      "outputs": []
    },
    {
      "cell_type": "code",
      "metadata": {
        "id": "Hp3tpZpk0Nvx"
      },
      "source": [
        "nlp = spacy.load(\"en_core_web_sm\")  # начинаю со spacy\n",
        "\n",
        "en_text_clean = re.sub('[₽#&-;\\*\\(\\(,.!?\\d]', '', text_en)\n",
        "doc = nlp(en_text_clean)\n",
        "en_spacy_list = []\n",
        "en_spacy_str = ''\n",
        "for token in doc:  # проще было бы сделать сразу список списков, но нужно будет менять теги, чтоб совпадали с моими, поэтому нужна str (для re.sub)\n",
        "    en_spacy_str += token.text\n",
        "    en_spacy_str += ' '\n",
        "    en_spacy_str += token.tag_\n",
        "    en_spacy_str += ' '\n",
        "\n",
        "en_spacy_str = standart(en_spacy_str)\n",
        "en_spacy = re.findall('([a-zA-Z]+)\\s([A-Z]+)', en_spacy_str)"
      ],
      "execution_count": 16,
      "outputs": []
    },
    {
      "cell_type": "code",
      "metadata": {
        "id": "OTgmyvej0rKV",
        "outputId": "73c397be-ec90-4348-ef07-e731e762fa70",
        "colab": {
          "base_uri": "https://localhost:8080/",
          "height": 176
        }
      },
      "source": [
        "from tqdm import tqdm\n",
        "from flair.data import Sentence  # использую flair\n",
        "from flair.models import SequenceTagger\n",
        "nltk.download('punkt')\n",
        "\n",
        "pos = SequenceTagger.load('pos-fast')\n",
        "\n",
        "en_flair_raw = []\n",
        "en_flair_list = nltk.tokenize.sent_tokenize(text_en)\n",
        "\n",
        "for i in tqdm(en_flair_list):\n",
        "  sentence = Sentence(i)\n",
        "  pos.predict(sentence)\n",
        "  en_flair_raw.append(sentence.to_tagged_string())\n",
        "\n",
        "import re\n",
        "en_flair_str = str(en_flair_raw)\n",
        "en_flair_str = standart(en_flair_str)\n",
        "en_flair = re.findall('([a-zA-Z]+)\\s<([A-Z]+)', en_flair_str)\n"
      ],
      "execution_count": 17,
      "outputs": [
        {
          "output_type": "stream",
          "text": [
            "[nltk_data] Downloading package punkt to /root/nltk_data...\n",
            "[nltk_data]   Unzipping tokenizers/punkt.zip.\n",
            "2020-10-21 02:20:07,877 https://nlp.informatik.hu-berlin.de/resources/models/pos-fast/en-pos-ontonotes-fast-v0.5.pt not found in cache, downloading to /tmp/tmp82vptiza\n"
          ],
          "name": "stdout"
        },
        {
          "output_type": "stream",
          "text": [
            "100%|██████████| 75266317/75266317 [00:04<00:00, 18066363.69B/s]"
          ],
          "name": "stderr"
        },
        {
          "output_type": "stream",
          "text": [
            "2020-10-21 02:20:12,421 copying /tmp/tmp82vptiza to cache at /root/.flair/models/en-pos-ontonotes-fast-v0.5.pt\n"
          ],
          "name": "stdout"
        },
        {
          "output_type": "stream",
          "text": [
            "\n"
          ],
          "name": "stderr"
        },
        {
          "output_type": "stream",
          "text": [
            "2020-10-21 02:20:12,603 removing temp file /tmp/tmp82vptiza\n",
            "2020-10-21 02:20:12,619 loading file /root/.flair/models/en-pos-ontonotes-fast-v0.5.pt\n"
          ],
          "name": "stdout"
        },
        {
          "output_type": "stream",
          "text": [
            "100%|██████████| 11/11 [00:02<00:00,  5.38it/s]\n"
          ],
          "name": "stderr"
        }
      ]
    },
    {
      "cell_type": "code",
      "metadata": {
        "id": "S66E8tlm07QX",
        "outputId": "19d1bc22-b333-449e-e761-f5630d4f5ca5",
        "colab": {
          "base_uri": "https://localhost:8080/",
          "height": 104
        }
      },
      "source": [
        "nltk.download('tagsets')  # использую nltk\n",
        "nltk.download('averaged_perceptron_tagger')\n",
        "from nltk import word_tokenize\n",
        "text = word_tokenize(text_en)\n",
        "en_nltk_raw = nltk.pos_tag(text)\n",
        "en_nltk_str = str(en_nltk_raw)\n",
        "en_nltk_str = standart(en_nltk_str)\n",
        "en_nltk = re.findall('\\'([a-zA-Z]+)\\',\\s\\'([A-Z]+)', en_nltk_str)"
      ],
      "execution_count": 18,
      "outputs": [
        {
          "output_type": "stream",
          "text": [
            "[nltk_data] Downloading package tagsets to /root/nltk_data...\n",
            "[nltk_data]   Unzipping help/tagsets.zip.\n",
            "[nltk_data] Downloading package averaged_perceptron_tagger to\n",
            "[nltk_data]     /root/nltk_data...\n",
            "[nltk_data]   Unzipping taggers/averaged_perceptron_tagger.zip.\n"
          ],
          "name": "stdout"
        }
      ]
    },
    {
      "cell_type": "code",
      "metadata": {
        "id": "xKFJQhTQ20mt",
        "outputId": "ef0a6666-e470-4d64-9a4a-5caa2361d61b",
        "colab": {
          "base_uri": "https://localhost:8080/",
          "height": 35
        }
      },
      "source": [
        "spacy_accuracy = accuracy_check(en_spacy, en_manually)  # считаю\n",
        "flair_accuracy = accuracy_check(en_flair, en_manually)\n",
        "nltk_accuracy = accuracy_check(en_nltk, en_manually)\n",
        "\n",
        "if spacy_accuracy > flair_accuracy:  # находит и объявляет самый точный английский теггер\n",
        "    if spacy_accuracy > nltk_accuracy:\n",
        "        print('spacy самый точный из английских:', spacy_accuracy, ' vs ', flair_accuracy, ' и ', nltk_accuracy)\n",
        "    else:\n",
        "        print('nltk самая точная из английских:', nltk_accuracy, ' vs ', spacy_accuracy, ' и ', flair_accuracy)\n",
        "elif spacy_accuracy < flair_accuracy:\n",
        "    if flair_accuracy > nltk_accuracy:\n",
        "        print('flair самый точный из английских:', flair_accuracy, ' vs ', spacy_accuracy, ' и ', nltk_accuracy)\n",
        "    else:\n",
        "        print('nltk самая точная из английских:', nltk_accuracy, ' vs ', spacy_accuracy, ' и ', flair_accuracy)\n",
        "else:\n",
        "    if spacy_accuracy > nltk_accuracy:\n",
        "        print('spacy и flair самые точные из английских:', spacy_accuracy, ' и ', flair_accuracy, ' vs ', nltk_accuracy)\n",
        "    else:\n",
        "        print('nltk самая точная из английских:', nltk_accuracy, ' vs ', spacy_accuracy, ' и ', flair_accuracy)"
      ],
      "execution_count": null,
      "outputs": [
        {
          "output_type": "stream",
          "text": [
            "flair самый точный из английских: 0.92  vs  0.9  и  0.91\n"
          ],
          "name": "stdout"
        }
      ]
    },
    {
      "cell_type": "code",
      "metadata": {
        "id": "6gDa05Th2wt-"
      },
      "source": [
        ""
      ],
      "execution_count": null,
      "outputs": []
    }
  ]
}